{
 "cells": [
  {
   "cell_type": "code",
   "execution_count": 57,
   "id": "b5cf2415-d405-40bc-ad61-cad9e7fffe59",
   "metadata": {},
   "outputs": [],
   "source": [
    "\n",
    "from bisect import *"
   ]
  },
  {
   "cell_type": "code",
   "execution_count": 86,
   "id": "ecabceb0-21fd-44c0-a362-75cf3990361b",
   "metadata": {},
   "outputs": [
    {
     "name": "stdout",
     "output_type": "stream",
     "text": [
      "1\n"
     ]
    }
   ],
   "source": [
    "for i in range(1,2):\n",
    "    print(i)"
   ]
  }
 ],
 "metadata": {
  "kernelspec": {
   "display_name": "Python 3 (ipykernel)",
   "language": "python",
   "name": "python3"
  },
  "language_info": {
   "codemirror_mode": {
    "name": "ipython",
    "version": 3
   },
   "file_extension": ".py",
   "mimetype": "text/x-python",
   "name": "python",
   "nbconvert_exporter": "python",
   "pygments_lexer": "ipython3",
   "version": "3.11.5"
  }
 },
 "nbformat": 4,
 "nbformat_minor": 5
}
