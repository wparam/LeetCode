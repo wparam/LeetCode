{
 "cells": [
  {
   "cell_type": "code",
   "execution_count": 39,
   "id": "b5cf2415-d405-40bc-ad61-cad9e7fffe59",
   "metadata": {},
   "outputs": [
    {
     "name": "stdout",
     "output_type": "stream",
     "text": [
      "[0, 0, 0, 1, 0]\n"
     ]
    }
   ],
   "source": [
    "a = [0] * 5 \n",
    "\n",
    "a[3] = 1\n",
    "\n",
    "for i in range"
   ]
  },
  {
   "cell_type": "code",
   "execution_count": 44,
   "id": "4dc04e84-a536-4238-931f-6371d28144df",
   "metadata": {},
   "outputs": [
    {
     "name": "stdout",
     "output_type": "stream",
     "text": [
      "<class 'map'>\n"
     ]
    }
   ],
   "source": [
    "c = 1233\n",
    "\n",
    "print(type(map(str, a)))"
   ]
  },
  {
   "cell_type": "code",
   "execution_count": 27,
   "id": "e19a5b7a-dfdd-4ac8-a537-9ce55001b55e",
   "metadata": {},
   "outputs": [
    {
     "data": {
      "text/plain": [
       "0"
      ]
     },
     "execution_count": 27,
     "metadata": {},
     "output_type": "execute_result"
    }
   ],
   "source": [
    "0 % 10"
   ]
  },
  {
   "cell_type": "code",
   "execution_count": 51,
   "id": "55201b4b-bb0b-4e24-a82a-c736cf686d7a",
   "metadata": {},
   "outputs": [
    {
     "data": {
      "text/plain": [
       "{1, 2}"
      ]
     },
     "execution_count": 51,
     "metadata": {},
     "output_type": "execute_result"
    }
   ],
   "source": [
    "a = [1, 1, 2,2]\n",
    "set(a)\n"
   ]
  },
  {
   "cell_type": "code",
   "execution_count": 50,
   "id": "b6f5a488-d0e9-430f-b369-8eb3c671e6a1",
   "metadata": {},
   "outputs": [
    {
     "ename": "SyntaxError",
     "evalue": "invalid syntax (4260207528.py, line 1)",
     "output_type": "error",
     "traceback": [
      "\u001b[0;36m  Cell \u001b[0;32mIn[50], line 1\u001b[0;36m\u001b[0m\n\u001b[0;31m    as = sorted(a)\u001b[0m\n\u001b[0m    ^\u001b[0m\n\u001b[0;31mSyntaxError\u001b[0m\u001b[0;31m:\u001b[0m invalid syntax\n"
     ]
    }
   ],
   "source": [
    "as = sorted(a)\n",
    "print(as)"
   ]
  },
  {
   "cell_type": "code",
   "execution_count": null,
   "id": "9cea21fd-f1d7-4b59-88ab-7c4cde719167",
   "metadata": {},
   "outputs": [],
   "source": []
  }
 ],
 "metadata": {
  "kernelspec": {
   "display_name": "Python 3 (ipykernel)",
   "language": "python",
   "name": "python3"
  },
  "language_info": {
   "codemirror_mode": {
    "name": "ipython",
    "version": 3
   },
   "file_extension": ".py",
   "mimetype": "text/x-python",
   "name": "python",
   "nbconvert_exporter": "python",
   "pygments_lexer": "ipython3",
   "version": "3.11.5"
  }
 },
 "nbformat": 4,
 "nbformat_minor": 5
}
